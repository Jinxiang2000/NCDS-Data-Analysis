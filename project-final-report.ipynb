{
 "cells": [
  {
   "cell_type": "markdown",
   "metadata": {
    "collapsed": false
   },
   "source": [
    "# Understanding Critical Factors of Minority and Transferred Students in U.S. Schools\n",
    "Cathleen Li, Carol Li, Jinxiang Ma, and Jiayi Shen.\n",
    "\n",
    "#### Author contributions\n",
    "\n",
    "Cathleen and Carol contributed question 1, background, and dataset.\n",
    "\n",
    "Jinxiang Ma and Jiayi Shen contributed question 2.\n",
    "\n",
    "Abstract, aims, methods, and discussion are written by all four authors.\n",
    "\n",
    "#### Abstract\n",
    "- In this project, we will explore how minority and transferred students affect school environment such as racial tension, violent incidents, and also how school location influence transferred students rate. We will also explore how urbanacity,violent incidents, school size and crime level influence number of transferred students;\n",
    "- The aims of the project are to answer if the presence of minority students aggravates racial tension. Also, we aim to explore possible factors that influence number of transferred students. \n",
    "- From the analysis, we have found that the presence of minority students both aggravate the level of racial tension and increase violent incidents. The higher the minority percentage is, the larger the amount of violent incidents occur and the larger the higher level racial tensions (level 5, 8, 10) is. We also conclude that generally the increase of violent influences means the increase in number of transferred students. Also, urbanicty will lead to more transferred studnets: with larger school sizes in city, more transferred students we have; smaller school sizes in town, less transferred students we have. Moreover, we also find that an association between crime level and number of transferred students. \n"
   ]
  },
  {
   "cell_type": "markdown",
   "metadata": {
    "collapsed": false
   },
   "source": [
    "---\n",
    "## 1. Introduction\n",
    "### 1.1 Background\n",
    "\n",
    "The National Education Statistics Center (NCES) is the main federal entity that collects and analyzes education-related data in the United States and other countries. NCES performs the duties of Congress to collect, organize, analyze, and report complete statistical data on the state of education in the United States; conduct and publish reports; review and report on international education activities.\n",
    "\n",
    "The data our group use for this project is called the School Survey on Crime and Safety (SSOCS), which is the main source of NCES school-level crime and security data. SSOCS is a sample survey of approximately 4,800 public primary and secondary schools. It aims to provide estimates of school crime, discipline, disorder, programs and policies, and is large enough to provide a national estimate of all public schools. SSOCS is administered in the spring of the school year so that the principal can report the most complete information possible. Specifically, we use the data set from the 2005-06 school year. In the raw data, the SSOCS questionnaire requires principals to report on various topics related to crime and safety, including school practices and plans, parent and community involvement in schools, school security personnel, and so on.\n",
    "\n",
    "In this project, two topics we plan to explore are:\n",
    "1. Does the presence of minority students aggravate racial tension?\n",
    "2. What factors can affect the number of transfer students?\n",
    "\n",
    "### 1.2 Aims\n",
    "The first question aims to answer if the presence of minority students aggravates racial tension. Since racial tension has always been an issue in the society, and the tragic death of George Floyd really provoked people into the \"Black Lives Matter\" movement. Moreover, since the pandemic, \"Asian hate crime\" has been happening quite frequently. Since school violence is a topic that many people concern about now, we feel like it is important to see if there is a relationship between the presence of minority students and racial tension.\n",
    "\n",
    "The second question aims to explore the relationship between variables: urbanicity, number of transferred students, school sizses, and crime rates. Since we believe that these variables are important signs of whether a school can provide a safe and good environment for students, we then uses statistical methods: simple linear regression, mutiple linear regression to study the dataset. We are intersted to see whether crime level, school size, and urbanicity impact a students' transfer decision or not. Through the progress, we also look at other variables like school sizes and urbanicity altogether. "
   ]
  },
  {
   "cell_type": "markdown",
   "metadata": {
    "collapsed": false
   },
   "source": [
    "---\n",
    "## 2. Materials and methods\n",
    "\n",
    "\n",
    "### 2.1 Datasets\n",
    "\n",
    "#### Basic information\n",
    "##### General description: \n",
    "The data are school survey on crime and safety that gathered responses from approximately 4,800 public elementary and secondary schools from 2005–06 school year. The survey is administrated during the spring of the school year for the principals to report the most complete information possible.\n",
    "\n",
    "##### Source: \n",
    "We use school-level data on crime and safety for the U.S. Department of Education, National Center for Education Statistics (NCES). \n",
    "\n",
    "https://nces.ed.gov/surveys/ssocs/index.asp?FType=1\n",
    "\n",
    "##### Collection methods: \n",
    "The data are collected from the surveys distributed to approximately 4,800 public elementary and secondary school principals in the U.S. during 2005–06 school year. School principals are in charge of filling out the survey each year.\n",
    "\n",
    "##### Sampling design and scope of inference: \n",
    "The relevant population is all U.S. elementary and secondary schools. The sampling frame is all U.S. elementary and secondary school principals recorded. The sampling mechanism is random sample since all school principals have equal likelihood of being selected to participate in this survey. The scope of inference is broad since the sample is said to be representative of the population. The sample could be used to safely extrapolate all U.S. elementary and secondary schools' crime and safety situations.\n",
    "\n",
    "### Data semantics and structure\n",
    "#### Units and observations: \n",
    "Observational units are distinct 4800 public elementary and secondary schools from 2005 to 2006 school year. \n",
    "\n",
    "#### Variable descriptions: \n",
    "Provide a table of variable descriptions. If your dataset is large and you'll only work with a subset of the total available variables, limit your attention to the variables that you'll work with. Here's a template you can work with:\n"
   ]
  },
  {
   "cell_type": "markdown",
   "metadata": {
    "collapsed": false
   },
   "source": [
    "\n",
    "\n",
    "Name | Variable description | Type | Units of measurement\n",
    "---|---|---|---\n",
    "C0562 | Crime where school located| catogory |No \n",
    "C0570 | # of students transferred to school | Numeric | number of students\n",
    "C0374 | How often student racial tensions |catogory  | No\n",
    "VIOINC06| Total number of violent incidents recorded | Numeric | number of incidents \n",
    "FR_LOC4 | Urbanicity - from 03-04 CCD (School) | catogory  | No\n",
    "FR_CATMN |Recoded % minority student enrollment in school - based on 03-04 CCD frame variables (School) |catogory  | No\n",
    "FR_SIZE | School size categories - based on 03-04 CCD frame variables (School) | Numeric | school sizes\n",
    "\n"
   ]
  },
  {
   "cell_type": "markdown",
   "metadata": {
    "collapsed": false
   },
   "source": [
    "### 2.2 Methods\n",
    "\n",
    "The first question studies the relationship between minority and racial tension via comparing the percentage of minority, racial tensions, and the number of violent incidents happened. Changes in racial tensions are identified for different level of minority percentage as well as changes in the number of violent incidents, derived from several line and scatter plots. Furthermore, under the bar chart, there is strong signal in the percentage of minority about each racial tensions, based on sample sizes of each racial tensions in each level of minority percentage.\n",
    "\n",
    "The second question studies the relationship between number of transferred students and number of violent incidents via simple linear regression. We also explored the relationship between the number of transferred students and other catogorical variables: school sizes and urbanicity through mutiple linear regession. Specifically, we explore the data first by scatterplots and tables to analyze their relationships. Further, we use formula in simple linear regression (SLR) and mutiple linear regression (MLR) to explore their coefficeints, stardard errors....."
   ]
  },
  {
   "cell_type": "markdown",
   "metadata": {
    "collapsed": false
   },
   "source": [
    "---\n",
    "## 3. Results\n",
    "\n",
    "### 3.1 Minority and Disharmony\n",
    "Main Question: Does the presence of minority students aggravate racial tension and increase violent incidents?"
   ]
  },
  {
   "cell_type": "markdown",
   "metadata": {
    "collapsed": false
   },
   "source": [
    "#### 3.1.1 Minority and Racial Tensions\n",
    "\n",
    "In this section, we mainly focus on analyzing if there is a relationship between minority percentage and the level of racial tensions.\n",
    "\n",
    "| Racial tensions       |             count |\n",
    "|:----------------------|------------------:|\n",
    "| on occassion          |              1626 |\n",
    "| Never                 |              838  |\n",
    "| at least once a month |              137  |\n",
    "| at least once a week  |              97   |\n",
    "| daily                 |              26   |\n",
    "> **Table 1**: Distribution of response to the racial tensions choice\n",
    "\n",
    "From the table above, we can see there are 5 levels of racial tensions recorded in this survey, and the choice \"on occassion\" is the most popular one. \"Never\" is the second most popular choice, and \"daily\" is the least popular.\n",
    "We assign numerical numbers to different levels of racial tensions depending on how often tensions occur. We think it would be reasonable to assign \"never\" to 0, \"at least once a month\" to 3, \"at least once a week\" to 8, and \"daily\" to 10.\n",
    "\n",
    "| Percent minority   |   Racial tensions mean |   Racial tensions min |   Racial tensions max |\n",
    "|:-------------------|-----------------------:|----------------------:|----------------------:|\n",
    "| 20% - 50%          |                2.91831 |                     0 |                    10 |\n",
    "| 5% - 20%           |                2.57064 |                     0 |                    10 |\n",
    "| 50% +              |                2.4831  |                     0 |                    10 |\n",
    "| <5%                |                1.74292 |                     0 |                    10 |\n",
    "| Do Not Know        |                1.96053 |                     0 |                     8 |\n",
    "> **Table 2**: Racial tensions mean, max and min for each minority density group"
   ]
  },
  {
   "cell_type": "markdown",
   "metadata": {
    "collapsed": false
   },
   "source": [
    "From the table above, we can see all minority density groups have the same racial tensions min and max except \"Do not know\" group that only has 8 as their maximum tension level. All groups seem to have different racial tensions mean within the range of 1.74 to 3.\n",
    "In order to show the racial tensions mean for each group more visually, we decide to display a plot for it.\n",
    "\n",
    "<center><img src = 'q1figure/visualization-11.svg' style = 'width:150px'></center>\n",
    "\n",
    "> **Figure 1**: line plot of minority percentage(x axis) and mean of racial tensions (y axis) in decreasing order."
   ]
  },
  {
   "cell_type": "markdown",
   "metadata": {
    "collapsed": false
   },
   "source": [
    "Based on the table, we have several findings:\n",
    "1. The highest mean of racial tensions happens among minority percentage 20% to 50%, and the second highest is 5% to 20%.\n",
    "2. The lowest mean happens among <5% percentage.\n",
    "3. Surprisingly, the highest minority density of 50%+ rank only the 3rd for mean racial tension."
   ]
  },
  {
   "cell_type": "markdown",
   "metadata": {
    "collapsed": false
   },
   "source": [
    "Therefore, minority percentage does not seem to affect racial tensions if we consider the degrees of racial tensions through the their means. However, it would be biased to only consider racial tension means since there may be extreme highs and lows that drive the mean. Therefore, we will analysis this racial disharmony though another factor-- violence incidents."
   ]
  },
  {
   "cell_type": "markdown",
   "metadata": {
    "collapsed": false
   },
   "source": [
    "#### 3.1.2 Minority and Violence Incidents\n",
    "In this section, we mainly focus on the relationship between the minority percentage and the number of violent incidents. Importantly, we neglect the group of unknown percentage of minority, because it contains data from different level of minority percentage, whose analysis has no reference value. Table2 is the summary of violent incidents grouped by the minority percentage.\n",
    "\n",
    "| Percent_minority   |   ('Violent_incidents', 'min') |   ('Violent_incidents', 'max') |   ('Violent_incidents', 'mean') |   ('Violent_incidents', 'std') |\n",
    "|:-------------------|-------------------------------:|-------------------------------:|--------------------------------:|-------------------------------:|\n",
    "| 20% - 50%          |                              0 |                            258 |                         28.0091 |                        35.769  |\n",
    "| 5% - 20%           |                              0 |                            188 |                         19.5967 |                        23.8851 |\n",
    "| 50% +              |                              0 |                            588 |                         41.1414 |                        55.6408 |\n",
    "| <5%                |                              0 |                            240 |                         14.5033 |                        20.9288 |\n",
    "| Do Not Know        |                              0 |                            487 |                         30.2237 |                        61.3607 |\n",
    "> **Table 3**: The summary of violent incidents for each minority percentage, including minimums, maximums, averages, and standard deviations. "
   ]
  },
  {
   "cell_type": "markdown",
   "metadata": {
    "collapsed": false
   },
   "source": [
    "Based on the table, we have several findings:\n",
    "1. For all level of percent minority, the minimum of violent incidents is 0;\n",
    "2. The maximum of violent incidents is highest for more than 50 percents minority, and that is lowest for 5 to 20 percents minority;  \n",
    "3. The average violent incidents is highest for more than 50 percents minority, and that is lowest for less than5 percents minority;  \n",
    "4. The standard deviation is lowest for less than 5 percents minority."
   ]
  },
  {
   "cell_type": "markdown",
   "metadata": {
    "collapsed": false
   },
   "source": [
    "Next, we use a line plot to show the trend. Figure2 was performed on the minority percentage and the number of violent incidents to identify whether there is any relationship between these two variables. \n"
   ]
  },
  {
   "cell_type": "markdown",
   "metadata": {
    "collapsed": false
   },
   "source": [
    "<center><img src = 'q1figure/visualization.svg' style = 'width:150px'></center>\n",
    "\n",
    "> **Figure 2**: line plot of minority percentage(x axis) and average number of violent incidents (y axis) in ascending order."
   ]
  },
  {
   "cell_type": "markdown",
   "metadata": {
    "collapsed": false
   },
   "source": [
    "The trend of average number of violent incidents is noticeably, that as more average number of incidents happened, the percentage of minority increases as well."
   ]
  },
  {
   "cell_type": "markdown",
   "metadata": {
    "collapsed": false
   },
   "source": [
    "Last, we use a scatter plot to show the distribution. Figure3 was performed on the minority percentage and the number of violent incidents to identify how number of violent incidents distributes for each level of minority percentage.\n"
   ]
  },
  {
   "cell_type": "markdown",
   "metadata": {
    "collapsed": false
   },
   "source": [
    "<center><img src = 'q1figure/visualization-2.svg' style = 'width:150px'></center>\n",
    "\n",
    "> **Figure 3**: scatter plot of minority percentage(x axis) and number of violent incidents (y axis). "
   ]
  },
  {
   "cell_type": "markdown",
   "metadata": {
    "collapsed": false
   },
   "source": [
    "The distribution of number of violent incidents is largest for more than 50 percent minority, which mainly focuses from 0 to 300; and the distribution is the smallest for less than 5 percent minority, which is from 0 to 100 (except the \"Do Not Know\" group). Moreover, it is significant that the range of distribution increases as the percentage of minority increases. "
   ]
  },
  {
   "cell_type": "markdown",
   "metadata": {
    "collapsed": false
   },
   "source": [
    "Therefore, we could conclude that minority percentage has positive relationship with number of violent incidents, that as number of violent incidents increases, minority percentage increases. At this point, we wonder if the relationship between minority percentage and violence incidents has any connection to the relationship between minority percentage and the racial tension levels."
   ]
  },
  {
   "cell_type": "markdown",
   "metadata": {
    "collapsed": false
   },
   "source": [
    "\n",
    "#### 3.1.3 Minority, Racial Tensions, and Violence Incidents\n",
    "\n",
    "In this section, we focus on the relationship between the minority percentage rate, racial tension levels, and the number of violent incidents and seek to find the relationship between these three variables if there is any. We think the best way to determine the relationship is through visualization."
   ]
  },
  {
   "cell_type": "markdown",
   "metadata": {
    "collapsed": false
   },
   "source": [
    "<center><img src = 'q1figure/visualization-13.svg' style = 'width:400px'></center>\n",
    "\n",
    "> **Figure 4**: bar plot of minority percentage (x axis) and square root of total number of violent incidents (y axis), colored by racial tension levels."
   ]
  },
  {
   "cell_type": "markdown",
   "metadata": {
    "collapsed": false
   },
   "source": [
    "From the bar plot above, we could see 50%+ minority percentage has the highest violent incidents and racial tensions. Surprisingly, it also has the largest racial tension level 0 (never). For the other minority groups, the amount of violent incidents seem to the second lowest, and the racial tensions levels seem to be much smaller than other groups except the \"Do Not Know\" group. \"Do Not Know\" group is the only group that does not have racial tension level 10 (daily). Most of violent incidents has 3 or 5 as their racial tension levels.\n",
    "\n",
    "This is an interesting discovery because from this graph, we could conclude that minority percentage influences both the amount of violent incidents and racial tensions. The higher the minority percentage is, the larger the amount of violent incidents occur. Moreover, the higher the minority percentage is, the larger the higher level racial tensions (level 5,8,10) might occur. Because of the lack of information, the \"Do Not Know\" group reports the smallest amount of violent incidents and does not include any racial tension 10 (daily)."
   ]
  },
  {
   "cell_type": "markdown",
   "metadata": {
    "collapsed": false
   },
   "source": [
    "### 3.2 Transfer Students\n",
    "In this section, we want to explore possible factors that affacts the number of transfer students.\n",
    "#### 3.2.1 Exploratory analysis\n",
    "<center><img src = 'q2figure/n2.svg' style = 'width:1600px'></center>\n",
    "\n",
    "> **Figure 5**: Distribution between Students transfer and violent incidents\n",
    "\n",
    "From the above scatterplots, we first explore variable of violent incidents against response variable students_transferred. The plot is colored by school_size. Also, the plots are facet by urbanicity. Thus, we can observe the relation between violent incidents and students_transferred by urbanicity and school sizes. \n",
    "1. We observe that, in general, with more violent incidents in x axis, there are more transferred students in y-axis considering school sizes and urbanicity. \n",
    "2. For example, in school sizes 1000+, we can see blue points are increase in a linear form in city and urban fringe. Rural and town do not have a lot school sizes with siz \"1000+\"; however, we can still find out that blue points in rural scatterplot and town scatterplot increase in a linear form either. \n",
    "3. The exploratory analysis give us a preview of what the relationship between violent incidents and transferred students look like；"
   ]
  },
  {
   "cell_type": "markdown",
   "metadata": {
    "collapsed": false
   },
   "source": [
    "<center><img src = 'q2figure/n1.svg' style = 'width:400px'></center>\n",
    "\n",
    "> **Figure 6**: points and line plot between urbanicity, school size and median number of transferred students\n",
    "\n",
    "From the above line and point plot, we explore the relationship between urbanicity and median number of transferred students. The plot is colored by school sizes. \n",
    "1. we can generally observe that in rural areas, for each category of school sizes, rural areas have least number of median number of transferred students;\n",
    "2. On the other side, we can generally observe that in city, for each category of school sizes, city areas have largest number of median number of transferred students;"
   ]
  },
  {
   "cell_type": "markdown",
   "metadata": {
    "collapsed": false
   },
   "source": [
    "#### 3.2.2 Simple Linear Regression\n",
    "We want to use simple linear regression to determine whether the number of transferred students relates to the number of violent incidents. The following equation represents the simple regresion model. \n",
    "$$y_i = \\beta_0 + \\beta_1 x_i + \\epsilon_i \\quad\\begin{cases} i = 1, \\dots, n \\\\\\epsilon_i \\sim N\\left(0,\\sigma^2\\right)\\end{cases}$$\n",
    "\n",
    "* $y_i$ is the _**response variable**_ , in this model, it repersents \"the number of transfer students\".\n",
    "* $x_i$ is the _**explanatory variable**_, in this model, it repersents\"the number of violent incidents\".\n",
    "* $\\epsilon_i$ is the _**error**_\n",
    "* $\\beta_0$ is the _**intercept**_\n",
    "* $\\beta_1$ is the _**coefficient**_\n",
    "* $\\sigma^2$ is the _**error variance**_"
   ]
  },
  {
   "cell_type": "markdown",
   "metadata": {
    "collapsed": false
   },
   "source": [
    "First, we focus on computing the estimates. This is accomplished by using a `LinearRegression()` function and we fit the model using the `fit()` method. After that, we retrieve the coefficient estimates using `.coef_`"
   ]
  },
  {
   "cell_type": "markdown",
   "metadata": {
    "collapsed": false
   },
   "source": [
    "* Intercept estimate: $\\hat{\\beta}_0 = 59.27765918$\n",
    "* Slope estimate: $\\hat{\\beta}_1 = 0.77554596$\n",
    "\n",
    "The slope estimate indicates that, among all schools in the sample, a one-case increase in the number of violent incidents is associated with a increase of 0.776 number of transfer students."
   ]
  },
  {
   "cell_type": "markdown",
   "metadata": {
    "collapsed": false
   },
   "source": [
    "\n",
    "\n",
    "|                    |   coefficient estimate |   standard error      |  \n",
    "|:-------------------|-----------------------:|----------------------:|\n",
    "|    intercept       |               59.277659|              2.874140 |     \n",
    "|  Violent_incidents |                0.775546|              0.054984 |    \n",
    "\n",
    "> **Table 4**: Coefficient Estimates Table [SLR]"
   ]
  },
  {
   "cell_type": "markdown",
   "metadata": {
    "collapsed": false
   },
   "source": [
    "##### Goodness of Fit using $R^2$\n",
    "$R^2$ is a statistical measure of how close the data are to the fitted regression line. It is the percentage of the response variable variation that is explain by a linear model.\n",
    "$$R^2 = \\frac{\\text{reduction in variation}}{\\text{total variation}}$$\n",
    "Here, we compute $R^2$ using the `r2_score(...)` function, and eventually we have\n",
    "$$R^2 = 0.07699304491868186$$\n",
    "Only 7.69% of the variation in the number of violent incident is explained by the number of transferred student.Therefore, it is inadequate to conclude that the number of transferred student positively correlates to the number of violent incidents. "
   ]
  },
  {
   "cell_type": "markdown",
   "metadata": {
    "collapsed": false
   },
   "source": [
    "#### 3.2.3 Multiple Linear Regression\n",
    "In this section, we will use multiple linear regression to further investigate the relation of transferred students between other categorical variables. More precisely, we will model the log of transferred students as a function of urbanicity, school size and crime level.\n",
    "\n",
    "$$\\log\\left(\\text{Transferred}_i\\right)\n",
    "    = \\beta_0 + \\beta_1\\left(\\text{rural}\\right)_i + \\cdots + \\beta_4\\left(\\text{urban}\\right)_i + \\beta_5\\text{(300-499)}_i + \\beta_7\\text{(<300)}_i + \\cdots + \\beta_{9}\\text{(moderate_crime)}_i + \\epsilon_i$$"
   ]
  },
  {
   "cell_type": "markdown",
   "metadata": {
    "collapsed": false
   },
   "source": [
    "|                    |   coefficient estimate |   standard error      |  \n",
    "|:-------------------|-----------------------:|----------------------:|\n",
    "|    intercept       |               4.984034 |              0.081266 |     \n",
    "|     Rural          |               -0.337945|              0.059062 |     \n",
    "|     Town           |              -0.145451 |              0.072576 |     \n",
    "|   Urban Fringe     |              -0.201611 |              0.050488 |   \n",
    "|    300 - 499       |               -1.058165|               0.05801 |   \n",
    "|     500-999        |               -0.622436|               0.045749|  \n",
    "|      <300          |              -1.731028 |               0.070925| \n",
    "| Low crime level    |              -0.451300 |               0.082800|   \n",
    "|Moderate crime level|               -0.069188|              0.088358 |    \n",
    "|error_variance      |               -0.862077|                    NaN|  \n",
    "\n",
    "\n",
    "> **Table 5**: Coefficient Estimates Table[MLR]\n",
    "\n",
    "\n",
    "Now look at both the estimates and standard errors for each level of each categorical variable; if some estimates are large for at least one level and the standard errors aren't too big, then estimated mean log expenditures differ according to the value of that variable when the other variables are held constant.\n",
    "For example: the estimate for `Moderate crime level` is  -0.069188; that means that, if urbanicity and school size are held fixed, the estimated difference in mean log transferred students between moderate crime level is  -0.069188. If $\\log(a) - \\log(b) =  -0.069188$, then $\\frac{a}{b} = e^{ -0.069188} \\approx 0.933151$; so the estimated transferred students (not on the log scale) differ by a factor of about 1. Further, the standard error is  0.088358 , so the estimate is within 4SE of 0; the difference could well be zero. So the model suggests there is no difference in transferred studnets by crime level"
   ]
  },
  {
   "cell_type": "markdown",
   "metadata": {
    "collapsed": false
   },
   "source": [
    "<center><img src = 'q2figure/n3.svg' style = 'width:1400px'></center>\n",
    "\n",
    "\n",
    "\n",
    "\n",
    "> **Figure 7**: plot of relationship of urbanicity and estimated mean log transfer [MLR]\n",
    "\n",
    "From the plot above, we can observe the relationship between urbanicity and estimated mean log transfer grouped by school size and faceted crime level;\n",
    "\n",
    "1. For example, we can observe that in high crime level, in four catogory of urbanicity, school size with 1000+ always have the largest estimated mean log transfer;\n",
    "2. Similarly, we can observe that in other two crime level, in four catogory of urbanicity, school size with 1000+ always have the largest estimated mean log transfer. \n",
    "3. Therefore, it's adequate to conclude that school size with 1000+ always have largest estimated mean log transfer. \n",
    "4. Specifically, within four catories of urbanicity, city always has largest estimated mean log transfer; rural always has the least estimated mean log transfer;\n",
    "5. Finally, it is reasonable to conclude that from the four plots, they share similar trend in each crime level, comparing urbanicity against estimated mean log transfer. \n",
    "6.  Therefore, from the above analysis, we conclude that urbanicity and school size affect the number of transferred students. \n",
    "+ Students tend to transfer to colleges in big cities because there are more resources in the urban area, such as more opportunities for internships and better living quality.\n",
    "+  School size also influences a student's transfer decision. Large school size is often associated with abundant alumni resources. On the other hand, school size an indicator of popularity because a large school usually has more applicants. \n",
    "+ Surprisingly, according to the data visualization, there seemed to be an association between crime level and the number of transfer students. The mean log transfer is roughly the same for the high level and the median level of crime; however, the mean log transfer for the low crime level is lower compared with other crime levels. This is counter-intuitive and we suspect multicollinearity exists between Urbanicity and crime level.\n"
   ]
  },
  {
   "cell_type": "markdown",
   "metadata": {
    "collapsed": false
   },
   "source": [
    "##### Multicollinearity\n",
    "To investigate whether multicollinearity exists between urbanicity and crime level, we slice both columns from the original data. We encode the categorical variables using `pd.getdummies()` and generate a correlation matrix using `corr()`. After that, we generate a correlation heatmap base on the correlation matrix using Seaborn. \n",
    "<center><img src = 'q2figure/n4.png' style = 'width:550px'></center>\n",
    "\n",
    "> **Figure 8**: Seaborn Heatmap for urbanicity and crime level\n",
    "\n",
    "Notice that city positively correlates with the high level of crime(0.4) and the moderate level of crime(0.3), whereas rural area positively correlates with the low level of crime(0.3). This result corresponds to our assumption in the previous section. Therefore, collinearity between urbanicity and crime level exists. Collinearity increase the variance of a regression fit. To address this issue, it's necessary to disregard crime level because it is redundant for our regression model."
   ]
  },
  {
   "cell_type": "markdown",
   "metadata": {
    "collapsed": false
   },
   "source": [
    "---\n",
    "\n",
    "## 4. Discussion"
   ]
  },
  {
   "cell_type": "markdown",
   "metadata": {
    "collapsed": false
   },
   "source": [
    "\n",
    "To sum up, the presence of minority students both aggravate the level of racial tension and increase violent incidents. The higher the minority percentage is, the larger the amount of violent incidents occur and the larger the higher level racial tensions (level 5, 8, 10) is. The reason of this phenomenon may be the ingrained racial discrimination towards minority group in society that has influenced the students at school. Importantly, throughout analyzing, we neglect the “Do Not Know” group because it may contain data from different level of minority percentage, whose analysis has no reference value.\n",
    "\n",
    "In second study, we use exploratory analysis, simple linear regression and mutiple linear regression to find out possible factors that affect the number of transfer students. In particular, we analyze the relationship between the variables: school sizes, transferred students, urbanicity, and crime level. In scatterplot, we learned that school with larger school size attracts more transferred students.  Also, we observe a potential connection between crime levels and urbanicity. By observing the Seaborn heatmap, we discover that there is a mild collinearity between urbanicity and crime levels.We conclude that school size and urbanicity affect the number of transfer students; however, due to the low R-square value of the SLR model and multicollinearity, there is little evidence to show that the number of transfers correlates with the violent incident or crime levels.\n"
   ]
  }
 ],
 "metadata": {
  "kernelspec": {
   "display_name": "Python 3 (system-wide)",
   "language": "python",
   "metadata": {
    "cocalc": {
     "description": "Python 3 programming language",
     "priority": 100,
     "url": "https://www.python.org/"
    }
   },
   "name": "python3",
   "resource_dir": "/ext/jupyter/kernels/python3"
  },
  "language_info": {
   "codemirror_mode": {
    "name": "ipython",
    "version": 3
   },
   "file_extension": ".py",
   "mimetype": "text/x-python",
   "name": "python",
   "nbconvert_exporter": "python",
   "pygments_lexer": "ipython3",
   "version": "3.8.5"
  },
  "toc": {
   "base_numbering": 1,
   "nav_menu": {
   },
   "number_sections": true,
   "sideBar": true,
   "skip_h1_title": false,
   "title_cell": "Table of Contents",
   "title_sidebar": "Contents",
   "toc_cell": false,
   "toc_position": {
   },
   "toc_section_display": true,
   "toc_window_display": false
  }
 },
 "nbformat": 4,
 "nbformat_minor": 4
}